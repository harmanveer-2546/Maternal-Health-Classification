{
  "cells": [
    {
      "cell_type": "markdown",
      "id": "ef51a3da",
      "metadata": {
        "papermill": {
          "duration": 0.03249,
          "end_time": "2021-12-26T20:51:36.892324",
          "exception": false,
          "start_time": "2021-12-26T20:51:36.859834",
          "status": "completed"
        },
        "tags": [],
        "id": "ef51a3da"
      },
      "source": [
        "# Maternal Health Risk using EDA and machine learning\n",
        "\n",
        "\n",
        "Many pregnant women die from pregnancy issues as a result of a lack of information on maternal health care during and after pregnancy. It is more common in rural regions and among lower-middle-class families in emerging countries. During pregnancy, every minute should be observed to ensure the proper growth of the baby and the safe delivery.\n",
        "\n",
        "<img src=\"https://miro.medium.com/max/400/1*rmj7B0EumeMHL4SiW6tD5Q.gif\" width=\"600px\">\n",
        "\n",
        "\n",
        "\n",
        "# 5 Algorithms Classification\n",
        "\n",
        "We used dataprep EDA and 5 algorithms Classification\n",
        "\n",
        "\n",
        "\n",
        "* Support Vector Machine(RBF)\n",
        "* Xgboost\n",
        "* Decision Tree\n",
        "* Random Forest\n",
        "* Gaussian Naive Bayes\n",
        "\n",
        "\n",
        "\n",
        "Data Set Information:\n",
        "\n",
        "\n",
        "Data has been collected from different hospitals, community clinics, maternal health cares through the IoT based risk monitoring system.\n",
        "\n",
        "* Age: Age in years when a woman is pregnant.\n",
        "* SystolicBP: Upper value of Blood Pressure in mmHg, another significant attribute during pregnancy.\n",
        "* DiastolicBP: Lower value of Blood Pressure in mmHg, another significant attribute during pregnancy.\n",
        "* BS: Blood glucose levels is in terms of a molar concentration, mmol/L.\n",
        "* HeartRate: A normal resting heart rate in beats per minute.\n",
        "* Risk Level: Predicted Risk Intensity Level during pregnancy considering the previous attribute.\n"
      ]
    },
    {
      "cell_type": "code",
      "execution_count": null,
      "id": "8c8b6e34",
      "metadata": {
        "_kg_hide-input": true,
        "_kg_hide-output": true,
        "execution": {
          "iopub.execute_input": "2021-12-26T20:51:36.958307Z",
          "iopub.status.busy": "2021-12-26T20:51:36.957232Z",
          "iopub.status.idle": "2021-12-26T20:52:01.469796Z",
          "shell.execute_reply": "2021-12-26T20:52:01.468856Z",
          "shell.execute_reply.started": "2021-12-26T17:37:57.517164Z"
        },
        "papermill": {
          "duration": 24.547051,
          "end_time": "2021-12-26T20:52:01.469987",
          "exception": false,
          "start_time": "2021-12-26T20:51:36.922936",
          "status": "completed"
        },
        "tags": [],
        "id": "8c8b6e34"
      },
      "outputs": [],
      "source": [
        "pip install dataprep"
      ]
    },
    {
      "cell_type": "code",
      "execution_count": null,
      "id": "498c0ccd",
      "metadata": {
        "execution": {
          "iopub.execute_input": "2021-12-26T20:52:01.599313Z",
          "iopub.status.busy": "2021-12-26T20:52:01.598665Z",
          "iopub.status.idle": "2021-12-26T20:52:02.854246Z",
          "shell.execute_reply": "2021-12-26T20:52:02.853705Z",
          "shell.execute_reply.started": "2021-12-26T17:38:05.631048Z"
        },
        "papermill": {
          "duration": 1.32347,
          "end_time": "2021-12-26T20:52:02.854429",
          "exception": false,
          "start_time": "2021-12-26T20:52:01.530959",
          "status": "completed"
        },
        "tags": [],
        "id": "498c0ccd"
      },
      "outputs": [],
      "source": [
        "import pandas as pd\n",
        "import seaborn as sns\n",
        "import numpy as np\n",
        "from sklearn.model_selection import train_test_split\n",
        "from sklearn.preprocessing import StandardScaler\n",
        "from sklearn.metrics import confusion_matrix, accuracy_score\n",
        "from sklearn.metrics import classification_report"
      ]
    },
    {
      "cell_type": "code",
      "execution_count": null,
      "id": "e44e3e79",
      "metadata": {
        "execution": {
          "iopub.execute_input": "2021-12-26T20:52:02.980213Z",
          "iopub.status.busy": "2021-12-26T20:52:02.979492Z",
          "iopub.status.idle": "2021-12-26T20:52:03.015743Z",
          "shell.execute_reply": "2021-12-26T20:52:03.016188Z",
          "shell.execute_reply.started": "2021-12-26T17:38:05.663412Z"
        },
        "papermill": {
          "duration": 0.100497,
          "end_time": "2021-12-26T20:52:03.016382",
          "exception": false,
          "start_time": "2021-12-26T20:52:02.915885",
          "status": "completed"
        },
        "tags": [],
        "id": "e44e3e79"
      },
      "outputs": [],
      "source": [
        "df = pd.read_csv('../input/maternal-health-risk-data/Maternal Health Risk Data Set.csv')\n",
        "df.head()"
      ]
    },
    {
      "cell_type": "code",
      "execution_count": null,
      "id": "2ff4230e",
      "metadata": {
        "execution": {
          "iopub.execute_input": "2021-12-26T20:52:03.139578Z",
          "iopub.status.busy": "2021-12-26T20:52:03.138891Z",
          "iopub.status.idle": "2021-12-26T20:52:03.149528Z",
          "shell.execute_reply": "2021-12-26T20:52:03.150000Z",
          "shell.execute_reply.started": "2021-12-26T17:38:06.12783Z"
        },
        "papermill": {
          "duration": 0.074208,
          "end_time": "2021-12-26T20:52:03.150174",
          "exception": false,
          "start_time": "2021-12-26T20:52:03.075966",
          "status": "completed"
        },
        "tags": [],
        "id": "2ff4230e"
      },
      "outputs": [],
      "source": [
        "df.tail()"
      ]
    },
    {
      "cell_type": "code",
      "execution_count": null,
      "id": "37ece267",
      "metadata": {
        "execution": {
          "iopub.execute_input": "2021-12-26T20:52:03.272022Z",
          "iopub.status.busy": "2021-12-26T20:52:03.271428Z",
          "iopub.status.idle": "2021-12-26T20:52:03.278072Z",
          "shell.execute_reply": "2021-12-26T20:52:03.277613Z",
          "shell.execute_reply.started": "2021-12-26T17:38:06.553658Z"
        },
        "papermill": {
          "duration": 0.068631,
          "end_time": "2021-12-26T20:52:03.278212",
          "exception": false,
          "start_time": "2021-12-26T20:52:03.209581",
          "status": "completed"
        },
        "tags": [],
        "id": "37ece267"
      },
      "outputs": [],
      "source": [
        "df.dtypes"
      ]
    },
    {
      "cell_type": "code",
      "execution_count": null,
      "id": "d22f3a70",
      "metadata": {
        "execution": {
          "iopub.execute_input": "2021-12-26T20:52:03.406987Z",
          "iopub.status.busy": "2021-12-26T20:52:03.406317Z",
          "iopub.status.idle": "2021-12-26T20:52:03.426360Z",
          "shell.execute_reply": "2021-12-26T20:52:03.426948Z",
          "shell.execute_reply.started": "2021-12-26T17:38:06.816721Z"
        },
        "papermill": {
          "duration": 0.088239,
          "end_time": "2021-12-26T20:52:03.427117",
          "exception": false,
          "start_time": "2021-12-26T20:52:03.338878",
          "status": "completed"
        },
        "tags": [],
        "id": "d22f3a70"
      },
      "outputs": [],
      "source": [
        "df.info()"
      ]
    },
    {
      "cell_type": "code",
      "execution_count": null,
      "id": "179f0e6b",
      "metadata": {
        "execution": {
          "iopub.execute_input": "2021-12-26T20:52:03.556170Z",
          "iopub.status.busy": "2021-12-26T20:52:03.555524Z",
          "iopub.status.idle": "2021-12-26T20:52:03.557856Z",
          "shell.execute_reply": "2021-12-26T20:52:03.558318Z",
          "shell.execute_reply.started": "2021-12-26T17:38:07.074876Z"
        },
        "papermill": {
          "duration": 0.068574,
          "end_time": "2021-12-26T20:52:03.558490",
          "exception": false,
          "start_time": "2021-12-26T20:52:03.489916",
          "status": "completed"
        },
        "tags": [],
        "id": "179f0e6b"
      },
      "outputs": [],
      "source": [
        "df.shape"
      ]
    },
    {
      "cell_type": "code",
      "execution_count": null,
      "id": "394f0294",
      "metadata": {
        "execution": {
          "iopub.execute_input": "2021-12-26T20:52:03.689799Z",
          "iopub.status.busy": "2021-12-26T20:52:03.689003Z",
          "iopub.status.idle": "2021-12-26T20:52:03.691804Z",
          "shell.execute_reply": "2021-12-26T20:52:03.692236Z",
          "shell.execute_reply.started": "2021-12-26T17:38:07.351385Z"
        },
        "papermill": {
          "duration": 0.071769,
          "end_time": "2021-12-26T20:52:03.692414",
          "exception": false,
          "start_time": "2021-12-26T20:52:03.620645",
          "status": "completed"
        },
        "tags": [],
        "id": "394f0294"
      },
      "outputs": [],
      "source": [
        "#Miss Valuse\n",
        "df.isnull().sum()"
      ]
    },
    {
      "cell_type": "code",
      "execution_count": null,
      "id": "a470a4b5",
      "metadata": {
        "execution": {
          "iopub.execute_input": "2021-12-26T20:52:03.820679Z",
          "iopub.status.busy": "2021-12-26T20:52:03.819788Z",
          "iopub.status.idle": "2021-12-26T20:52:03.828621Z",
          "shell.execute_reply": "2021-12-26T20:52:03.829111Z",
          "shell.execute_reply.started": "2021-12-26T17:38:07.596472Z"
        },
        "papermill": {
          "duration": 0.074425,
          "end_time": "2021-12-26T20:52:03.829286",
          "exception": false,
          "start_time": "2021-12-26T20:52:03.754861",
          "status": "completed"
        },
        "tags": [],
        "id": "a470a4b5"
      },
      "outputs": [],
      "source": [
        "#Duplicated value\n",
        "data_dup = df.duplicated().any()\n",
        "data_dup"
      ]
    },
    {
      "cell_type": "code",
      "execution_count": null,
      "id": "7fb55615",
      "metadata": {
        "execution": {
          "iopub.execute_input": "2021-12-26T20:52:03.957087Z",
          "iopub.status.busy": "2021-12-26T20:52:03.956108Z",
          "iopub.status.idle": "2021-12-26T20:52:03.964161Z",
          "shell.execute_reply": "2021-12-26T20:52:03.963585Z",
          "shell.execute_reply.started": "2021-12-26T17:38:08.135779Z"
        },
        "papermill": {
          "duration": 0.073471,
          "end_time": "2021-12-26T20:52:03.964312",
          "exception": false,
          "start_time": "2021-12-26T20:52:03.890841",
          "status": "completed"
        },
        "tags": [],
        "id": "7fb55615"
      },
      "outputs": [],
      "source": [
        "df = df.drop_duplicates()"
      ]
    },
    {
      "cell_type": "code",
      "execution_count": null,
      "id": "2cf2a091",
      "metadata": {
        "execution": {
          "iopub.execute_input": "2021-12-26T20:52:04.096797Z",
          "iopub.status.busy": "2021-12-26T20:52:04.095978Z",
          "iopub.status.idle": "2021-12-26T20:52:04.099339Z",
          "shell.execute_reply": "2021-12-26T20:52:04.098863Z",
          "shell.execute_reply.started": "2021-12-26T17:38:08.408639Z"
        },
        "papermill": {
          "duration": 0.072542,
          "end_time": "2021-12-26T20:52:04.099474",
          "exception": false,
          "start_time": "2021-12-26T20:52:04.026932",
          "status": "completed"
        },
        "tags": [],
        "id": "2cf2a091"
      },
      "outputs": [],
      "source": [
        "data_dup = df.duplicated().any()\n",
        "data_dup"
      ]
    },
    {
      "cell_type": "code",
      "execution_count": null,
      "id": "5e3c35fc",
      "metadata": {
        "execution": {
          "iopub.execute_input": "2021-12-26T20:52:04.233191Z",
          "iopub.status.busy": "2021-12-26T20:52:04.232590Z",
          "iopub.status.idle": "2021-12-26T20:52:04.234492Z",
          "shell.execute_reply": "2021-12-26T20:52:04.235039Z",
          "shell.execute_reply.started": "2021-12-26T17:38:08.719781Z"
        },
        "papermill": {
          "duration": 0.072036,
          "end_time": "2021-12-26T20:52:04.235202",
          "exception": false,
          "start_time": "2021-12-26T20:52:04.163166",
          "status": "completed"
        },
        "tags": [],
        "id": "5e3c35fc"
      },
      "outputs": [],
      "source": [
        "ca_val=[]\n",
        "co_val=[]\n",
        "\n",
        "for column in df.columns:\n",
        "    if df[column].nunique() <=10:\n",
        "        ca_val.append(column)\n",
        "    else:\n",
        "        co_val.append(column)"
      ]
    },
    {
      "cell_type": "code",
      "execution_count": null,
      "id": "ae2303f7",
      "metadata": {
        "execution": {
          "iopub.execute_input": "2021-12-26T20:52:04.360590Z",
          "iopub.status.busy": "2021-12-26T20:52:04.359907Z",
          "iopub.status.idle": "2021-12-26T20:52:04.363834Z",
          "shell.execute_reply": "2021-12-26T20:52:04.364330Z",
          "shell.execute_reply.started": "2021-12-26T17:38:09.31944Z"
        },
        "papermill": {
          "duration": 0.068191,
          "end_time": "2021-12-26T20:52:04.364494",
          "exception": false,
          "start_time": "2021-12-26T20:52:04.296303",
          "status": "completed"
        },
        "tags": [],
        "id": "ae2303f7"
      },
      "outputs": [],
      "source": [
        "#Categorical Data\n",
        "ca_val"
      ]
    },
    {
      "cell_type": "code",
      "execution_count": null,
      "id": "43d05693",
      "metadata": {
        "execution": {
          "iopub.execute_input": "2021-12-26T20:52:04.496443Z",
          "iopub.status.busy": "2021-12-26T20:52:04.495512Z",
          "iopub.status.idle": "2021-12-26T20:52:04.501235Z",
          "shell.execute_reply": "2021-12-26T20:52:04.501778Z",
          "shell.execute_reply.started": "2021-12-26T17:38:09.59013Z"
        },
        "papermill": {
          "duration": 0.071488,
          "end_time": "2021-12-26T20:52:04.501935",
          "exception": false,
          "start_time": "2021-12-26T20:52:04.430447",
          "status": "completed"
        },
        "tags": [],
        "id": "43d05693"
      },
      "outputs": [],
      "source": [
        "df['BodyTemp'].unique()"
      ]
    },
    {
      "cell_type": "code",
      "execution_count": null,
      "id": "0726ed6b",
      "metadata": {
        "execution": {
          "iopub.execute_input": "2021-12-26T20:52:04.632920Z",
          "iopub.status.busy": "2021-12-26T20:52:04.631939Z",
          "iopub.status.idle": "2021-12-26T20:52:04.636383Z",
          "shell.execute_reply": "2021-12-26T20:52:04.636876Z",
          "shell.execute_reply.started": "2021-12-26T17:38:10.258758Z"
        },
        "papermill": {
          "duration": 0.071371,
          "end_time": "2021-12-26T20:52:04.637056",
          "exception": false,
          "start_time": "2021-12-26T20:52:04.565685",
          "status": "completed"
        },
        "tags": [],
        "id": "0726ed6b"
      },
      "outputs": [],
      "source": [
        "df['RiskLevel'].unique()"
      ]
    },
    {
      "cell_type": "code",
      "execution_count": null,
      "id": "8e4f4983",
      "metadata": {
        "execution": {
          "iopub.execute_input": "2021-12-26T20:52:04.769409Z",
          "iopub.status.busy": "2021-12-26T20:52:04.768505Z",
          "iopub.status.idle": "2021-12-26T20:52:04.772385Z",
          "shell.execute_reply": "2021-12-26T20:52:04.771810Z",
          "shell.execute_reply.started": "2021-12-26T17:38:10.867105Z"
        },
        "papermill": {
          "duration": 0.071631,
          "end_time": "2021-12-26T20:52:04.772529",
          "exception": false,
          "start_time": "2021-12-26T20:52:04.700898",
          "status": "completed"
        },
        "tags": [],
        "id": "8e4f4983"
      },
      "outputs": [],
      "source": [
        "co_val"
      ]
    },
    {
      "cell_type": "code",
      "execution_count": null,
      "id": "b56ec112",
      "metadata": {
        "execution": {
          "iopub.execute_input": "2021-12-26T20:52:04.900832Z",
          "iopub.status.busy": "2021-12-26T20:52:04.900263Z",
          "iopub.status.idle": "2021-12-26T20:52:04.904691Z",
          "shell.execute_reply": "2021-12-26T20:52:04.905206Z",
          "shell.execute_reply.started": "2021-12-26T17:38:11.090665Z"
        },
        "papermill": {
          "duration": 0.069528,
          "end_time": "2021-12-26T20:52:04.905404",
          "exception": false,
          "start_time": "2021-12-26T20:52:04.835876",
          "status": "completed"
        },
        "tags": [],
        "id": "b56ec112"
      },
      "outputs": [],
      "source": [
        "df['Age'].unique()"
      ]
    },
    {
      "cell_type": "code",
      "execution_count": null,
      "id": "765f3e41",
      "metadata": {
        "execution": {
          "iopub.execute_input": "2021-12-26T20:52:05.035238Z",
          "iopub.status.busy": "2021-12-26T20:52:05.034657Z",
          "iopub.status.idle": "2021-12-26T20:52:05.038905Z",
          "shell.execute_reply": "2021-12-26T20:52:05.039420Z",
          "shell.execute_reply.started": "2021-12-26T17:38:11.363328Z"
        },
        "papermill": {
          "duration": 0.071622,
          "end_time": "2021-12-26T20:52:05.039594",
          "exception": false,
          "start_time": "2021-12-26T20:52:04.967972",
          "status": "completed"
        },
        "tags": [],
        "id": "765f3e41"
      },
      "outputs": [],
      "source": [
        "df['SystolicBP'].unique()"
      ]
    },
    {
      "cell_type": "code",
      "execution_count": null,
      "id": "6f7a0aad",
      "metadata": {
        "execution": {
          "iopub.execute_input": "2021-12-26T20:52:05.169491Z",
          "iopub.status.busy": "2021-12-26T20:52:05.168888Z",
          "iopub.status.idle": "2021-12-26T20:52:05.173589Z",
          "shell.execute_reply": "2021-12-26T20:52:05.174049Z",
          "shell.execute_reply.started": "2021-12-26T17:38:11.807698Z"
        },
        "papermill": {
          "duration": 0.071955,
          "end_time": "2021-12-26T20:52:05.174207",
          "exception": false,
          "start_time": "2021-12-26T20:52:05.102252",
          "status": "completed"
        },
        "tags": [],
        "id": "6f7a0aad"
      },
      "outputs": [],
      "source": [
        "df['DiastolicBP'].unique()"
      ]
    },
    {
      "cell_type": "code",
      "execution_count": null,
      "id": "219dba5f",
      "metadata": {
        "execution": {
          "iopub.execute_input": "2021-12-26T20:52:05.303490Z",
          "iopub.status.busy": "2021-12-26T20:52:05.302898Z",
          "iopub.status.idle": "2021-12-26T20:52:05.307649Z",
          "shell.execute_reply": "2021-12-26T20:52:05.308131Z",
          "shell.execute_reply.started": "2021-12-26T17:38:12.227544Z"
        },
        "papermill": {
          "duration": 0.070468,
          "end_time": "2021-12-26T20:52:05.308312",
          "exception": false,
          "start_time": "2021-12-26T20:52:05.237844",
          "status": "completed"
        },
        "tags": [],
        "id": "219dba5f"
      },
      "outputs": [],
      "source": [
        "df['BS'].unique()"
      ]
    },
    {
      "cell_type": "code",
      "execution_count": null,
      "id": "da169bd4",
      "metadata": {
        "execution": {
          "iopub.execute_input": "2021-12-26T20:52:05.438622Z",
          "iopub.status.busy": "2021-12-26T20:52:05.437964Z",
          "iopub.status.idle": "2021-12-26T20:52:05.442511Z",
          "shell.execute_reply": "2021-12-26T20:52:05.442960Z",
          "shell.execute_reply.started": "2021-12-26T17:38:12.912322Z"
        },
        "papermill": {
          "duration": 0.071782,
          "end_time": "2021-12-26T20:52:05.443128",
          "exception": false,
          "start_time": "2021-12-26T20:52:05.371346",
          "status": "completed"
        },
        "tags": [],
        "id": "da169bd4"
      },
      "outputs": [],
      "source": [
        "df['HeartRate'].unique()"
      ]
    },
    {
      "cell_type": "code",
      "execution_count": null,
      "id": "244bf35a",
      "metadata": {
        "execution": {
          "iopub.execute_input": "2021-12-26T20:52:05.573163Z",
          "iopub.status.busy": "2021-12-26T20:52:05.572595Z",
          "iopub.status.idle": "2021-12-26T20:52:05.588801Z",
          "shell.execute_reply": "2021-12-26T20:52:05.589346Z",
          "shell.execute_reply.started": "2021-12-26T17:38:13.543799Z"
        },
        "papermill": {
          "duration": 0.083128,
          "end_time": "2021-12-26T20:52:05.589514",
          "exception": false,
          "start_time": "2021-12-26T20:52:05.506386",
          "status": "completed"
        },
        "tags": [],
        "id": "244bf35a"
      },
      "outputs": [],
      "source": [
        "RiskLevel = {'low risk':1,\n",
        "        'mid risk':2,\n",
        "        'high risk':3}\n",
        "\n",
        "# apply using map\n",
        "df['RiskLevel'] = df['RiskLevel'].map(RiskLevel).astype(float)\n",
        "df"
      ]
    },
    {
      "cell_type": "code",
      "execution_count": null,
      "id": "12d64959",
      "metadata": {
        "execution": {
          "iopub.execute_input": "2021-12-26T20:52:05.729478Z",
          "iopub.status.busy": "2021-12-26T20:52:05.728770Z",
          "iopub.status.idle": "2021-12-26T20:52:05.735412Z",
          "shell.execute_reply": "2021-12-26T20:52:05.735831Z",
          "shell.execute_reply.started": "2021-12-26T17:38:14.498579Z"
        },
        "papermill": {
          "duration": 0.08022,
          "end_time": "2021-12-26T20:52:05.736001",
          "exception": false,
          "start_time": "2021-12-26T20:52:05.655781",
          "status": "completed"
        },
        "tags": [],
        "id": "12d64959"
      },
      "outputs": [],
      "source": [
        "df['RiskLevel'].value_counts()"
      ]
    },
    {
      "cell_type": "code",
      "execution_count": null,
      "id": "7f63b701",
      "metadata": {
        "execution": {
          "iopub.execute_input": "2021-12-26T20:52:05.873965Z",
          "iopub.status.busy": "2021-12-26T20:52:05.872967Z",
          "iopub.status.idle": "2021-12-26T20:52:05.899469Z",
          "shell.execute_reply": "2021-12-26T20:52:05.899969Z",
          "shell.execute_reply.started": "2021-12-26T17:38:15.139378Z"
        },
        "papermill": {
          "duration": 0.099334,
          "end_time": "2021-12-26T20:52:05.900135",
          "exception": false,
          "start_time": "2021-12-26T20:52:05.800801",
          "status": "completed"
        },
        "tags": [],
        "id": "7f63b701"
      },
      "outputs": [],
      "source": [
        "df.describe()"
      ]
    },
    {
      "cell_type": "code",
      "execution_count": null,
      "id": "fa24da80",
      "metadata": {
        "execution": {
          "iopub.execute_input": "2021-12-26T20:52:06.035750Z",
          "iopub.status.busy": "2021-12-26T20:52:06.034844Z",
          "iopub.status.idle": "2021-12-26T20:52:06.046520Z",
          "shell.execute_reply": "2021-12-26T20:52:06.047117Z",
          "shell.execute_reply.started": "2021-12-26T17:38:15.621692Z"
        },
        "papermill": {
          "duration": 0.079423,
          "end_time": "2021-12-26T20:52:06.047298",
          "exception": false,
          "start_time": "2021-12-26T20:52:05.967875",
          "status": "completed"
        },
        "tags": [],
        "id": "fa24da80"
      },
      "outputs": [],
      "source": [
        "df[['RiskLevel','Age']].corr()"
      ]
    },
    {
      "cell_type": "code",
      "execution_count": null,
      "id": "dd064b80",
      "metadata": {
        "execution": {
          "iopub.execute_input": "2021-12-26T20:52:06.184768Z",
          "iopub.status.busy": "2021-12-26T20:52:06.183823Z",
          "iopub.status.idle": "2021-12-26T20:52:06.193800Z",
          "shell.execute_reply": "2021-12-26T20:52:06.194327Z",
          "shell.execute_reply.started": "2021-12-26T17:38:16.216584Z"
        },
        "papermill": {
          "duration": 0.082329,
          "end_time": "2021-12-26T20:52:06.194499",
          "exception": false,
          "start_time": "2021-12-26T20:52:06.112170",
          "status": "completed"
        },
        "tags": [],
        "id": "dd064b80"
      },
      "outputs": [],
      "source": [
        "df[['RiskLevel','SystolicBP']].corr()"
      ]
    },
    {
      "cell_type": "code",
      "execution_count": null,
      "id": "ba220e73",
      "metadata": {
        "execution": {
          "iopub.execute_input": "2021-12-26T20:52:06.329237Z",
          "iopub.status.busy": "2021-12-26T20:52:06.328325Z",
          "iopub.status.idle": "2021-12-26T20:52:06.338674Z",
          "shell.execute_reply": "2021-12-26T20:52:06.339176Z",
          "shell.execute_reply.started": "2021-12-26T17:38:16.654632Z"
        },
        "papermill": {
          "duration": 0.07829,
          "end_time": "2021-12-26T20:52:06.339359",
          "exception": false,
          "start_time": "2021-12-26T20:52:06.261069",
          "status": "completed"
        },
        "tags": [],
        "id": "ba220e73"
      },
      "outputs": [],
      "source": [
        "df[['RiskLevel','DiastolicBP']].corr()"
      ]
    },
    {
      "cell_type": "code",
      "execution_count": null,
      "id": "9e9f7c7c",
      "metadata": {
        "execution": {
          "iopub.execute_input": "2021-12-26T20:52:06.485001Z",
          "iopub.status.busy": "2021-12-26T20:52:06.484392Z",
          "iopub.status.idle": "2021-12-26T20:52:06.486703Z",
          "shell.execute_reply": "2021-12-26T20:52:06.487126Z",
          "shell.execute_reply.started": "2021-12-26T17:38:17.172542Z"
        },
        "papermill": {
          "duration": 0.079812,
          "end_time": "2021-12-26T20:52:06.487301",
          "exception": false,
          "start_time": "2021-12-26T20:52:06.407489",
          "status": "completed"
        },
        "tags": [],
        "id": "9e9f7c7c"
      },
      "outputs": [],
      "source": [
        "df[['RiskLevel','BS']].corr()"
      ]
    },
    {
      "cell_type": "code",
      "execution_count": null,
      "id": "754efb45",
      "metadata": {
        "execution": {
          "iopub.execute_input": "2021-12-26T20:52:06.626185Z",
          "iopub.status.busy": "2021-12-26T20:52:06.625565Z",
          "iopub.status.idle": "2021-12-26T20:52:06.635836Z",
          "shell.execute_reply": "2021-12-26T20:52:06.636496Z",
          "shell.execute_reply.started": "2021-12-26T17:38:17.75896Z"
        },
        "papermill": {
          "duration": 0.082021,
          "end_time": "2021-12-26T20:52:06.636678",
          "exception": false,
          "start_time": "2021-12-26T20:52:06.554657",
          "status": "completed"
        },
        "tags": [],
        "id": "754efb45"
      },
      "outputs": [],
      "source": [
        "df[['RiskLevel','HeartRate']].corr()"
      ]
    },
    {
      "cell_type": "code",
      "execution_count": null,
      "id": "11c2f001",
      "metadata": {
        "execution": {
          "iopub.execute_input": "2021-12-26T20:52:06.772905Z",
          "iopub.status.busy": "2021-12-26T20:52:06.772331Z",
          "iopub.status.idle": "2021-12-26T20:52:09.681580Z",
          "shell.execute_reply": "2021-12-26T20:52:09.682052Z",
          "shell.execute_reply.started": "2021-12-26T17:38:18.850006Z"
        },
        "papermill": {
          "duration": 2.978914,
          "end_time": "2021-12-26T20:52:09.682220",
          "exception": false,
          "start_time": "2021-12-26T20:52:06.703306",
          "status": "completed"
        },
        "tags": [],
        "id": "11c2f001"
      },
      "outputs": [],
      "source": [
        "from dataprep.eda import plot\n",
        "plot(df)"
      ]
    },
    {
      "cell_type": "code",
      "execution_count": null,
      "id": "04e35b01",
      "metadata": {
        "execution": {
          "iopub.execute_input": "2021-12-26T20:52:10.262595Z",
          "iopub.status.busy": "2021-12-26T20:52:10.261627Z",
          "iopub.status.idle": "2021-12-26T20:52:10.946488Z",
          "shell.execute_reply": "2021-12-26T20:52:10.946967Z",
          "shell.execute_reply.started": "2021-12-26T17:40:56.514385Z"
        },
        "papermill": {
          "duration": 0.970557,
          "end_time": "2021-12-26T20:52:10.947164",
          "exception": false,
          "start_time": "2021-12-26T20:52:09.976607",
          "status": "completed"
        },
        "tags": [],
        "id": "04e35b01"
      },
      "outputs": [],
      "source": [
        "plot(df,'Age')"
      ]
    },
    {
      "cell_type": "code",
      "execution_count": null,
      "id": "2a39025f",
      "metadata": {
        "execution": {
          "iopub.execute_input": "2021-12-26T20:52:11.695807Z",
          "iopub.status.busy": "2021-12-26T20:52:11.695190Z",
          "iopub.status.idle": "2021-12-26T20:52:12.285133Z",
          "shell.execute_reply": "2021-12-26T20:52:12.285619Z",
          "shell.execute_reply.started": "2021-12-26T17:41:20.522445Z"
        },
        "papermill": {
          "duration": 0.964274,
          "end_time": "2021-12-26T20:52:12.285787",
          "exception": false,
          "start_time": "2021-12-26T20:52:11.321513",
          "status": "completed"
        },
        "tags": [],
        "id": "2a39025f"
      },
      "outputs": [],
      "source": [
        "plot(df,'SystolicBP')"
      ]
    },
    {
      "cell_type": "code",
      "execution_count": null,
      "id": "cce54867",
      "metadata": {
        "execution": {
          "iopub.execute_input": "2021-12-26T20:52:13.202146Z",
          "iopub.status.busy": "2021-12-26T20:52:13.201541Z",
          "iopub.status.idle": "2021-12-26T20:52:13.766338Z",
          "shell.execute_reply": "2021-12-26T20:52:13.766807Z"
        },
        "papermill": {
          "duration": 1.022218,
          "end_time": "2021-12-26T20:52:13.766970",
          "exception": false,
          "start_time": "2021-12-26T20:52:12.744752",
          "status": "completed"
        },
        "tags": [],
        "id": "cce54867"
      },
      "outputs": [],
      "source": [
        "plot(df,'DiastolicBP')"
      ]
    },
    {
      "cell_type": "code",
      "execution_count": null,
      "id": "341ff31c",
      "metadata": {
        "execution": {
          "iopub.execute_input": "2021-12-26T20:52:14.897310Z",
          "iopub.status.busy": "2021-12-26T20:52:14.896663Z",
          "iopub.status.idle": "2021-12-26T20:52:15.629378Z",
          "shell.execute_reply": "2021-12-26T20:52:15.629859Z",
          "shell.execute_reply.started": "2021-12-26T17:42:03.322761Z"
        },
        "papermill": {
          "duration": 1.292988,
          "end_time": "2021-12-26T20:52:15.630025",
          "exception": false,
          "start_time": "2021-12-26T20:52:14.337037",
          "status": "completed"
        },
        "tags": [],
        "id": "341ff31c"
      },
      "outputs": [],
      "source": [
        "plot(df,'BS')"
      ]
    },
    {
      "cell_type": "code",
      "execution_count": null,
      "id": "80b0711d",
      "metadata": {
        "execution": {
          "iopub.execute_input": "2021-12-26T20:52:16.917744Z",
          "iopub.status.busy": "2021-12-26T20:52:16.916845Z",
          "iopub.status.idle": "2021-12-26T20:52:17.508882Z",
          "shell.execute_reply": "2021-12-26T20:52:17.509357Z",
          "shell.execute_reply.started": "2021-12-26T17:42:43.827295Z"
        },
        "papermill": {
          "duration": 1.234257,
          "end_time": "2021-12-26T20:52:17.509522",
          "exception": false,
          "start_time": "2021-12-26T20:52:16.275265",
          "status": "completed"
        },
        "tags": [],
        "id": "80b0711d"
      },
      "outputs": [],
      "source": [
        "plot(df,'HeartRate')"
      ]
    },
    {
      "cell_type": "code",
      "execution_count": null,
      "id": "6c960ca0",
      "metadata": {
        "execution": {
          "iopub.execute_input": "2021-12-26T20:52:18.947728Z",
          "iopub.status.busy": "2021-12-26T20:52:18.946728Z",
          "iopub.status.idle": "2021-12-26T20:52:19.679884Z",
          "shell.execute_reply": "2021-12-26T20:52:19.680369Z",
          "shell.execute_reply.started": "2021-12-26T17:42:44.478349Z"
        },
        "papermill": {
          "duration": 1.461777,
          "end_time": "2021-12-26T20:52:19.680540",
          "exception": false,
          "start_time": "2021-12-26T20:52:18.218763",
          "status": "completed"
        },
        "tags": [],
        "id": "6c960ca0"
      },
      "outputs": [],
      "source": [
        "plot(df,'RiskLevel')"
      ]
    },
    {
      "cell_type": "code",
      "execution_count": null,
      "id": "74be3cfc",
      "metadata": {
        "execution": {
          "iopub.execute_input": "2021-12-26T20:52:21.352850Z",
          "iopub.status.busy": "2021-12-26T20:52:21.351851Z",
          "iopub.status.idle": "2021-12-26T20:52:21.367753Z",
          "shell.execute_reply": "2021-12-26T20:52:21.368197Z",
          "shell.execute_reply.started": "2021-12-26T17:40:31.318077Z"
        },
        "papermill": {
          "duration": 0.859746,
          "end_time": "2021-12-26T20:52:21.368377",
          "exception": false,
          "start_time": "2021-12-26T20:52:20.508631",
          "status": "completed"
        },
        "tags": [],
        "id": "74be3cfc"
      },
      "outputs": [],
      "source": [
        "df\n"
      ]
    },
    {
      "cell_type": "code",
      "execution_count": null,
      "id": "39a1da29",
      "metadata": {
        "execution": {
          "iopub.execute_input": "2021-12-26T20:52:23.048149Z",
          "iopub.status.busy": "2021-12-26T20:52:23.047215Z",
          "iopub.status.idle": "2021-12-26T20:52:23.417564Z",
          "shell.execute_reply": "2021-12-26T20:52:23.418015Z",
          "shell.execute_reply.started": "2021-12-26T17:43:30.776647Z"
        },
        "papermill": {
          "duration": 1.194717,
          "end_time": "2021-12-26T20:52:23.418192",
          "exception": false,
          "start_time": "2021-12-26T20:52:22.223475",
          "status": "completed"
        },
        "tags": [],
        "id": "39a1da29"
      },
      "outputs": [],
      "source": [
        "from dataprep.eda import plot_correlation\n",
        "plot_correlation(df)"
      ]
    },
    {
      "cell_type": "code",
      "execution_count": null,
      "id": "ff0f0d61",
      "metadata": {
        "execution": {
          "iopub.execute_input": "2021-12-26T20:52:25.287824Z",
          "iopub.status.busy": "2021-12-26T20:52:25.286885Z",
          "iopub.status.idle": "2021-12-26T20:52:26.845427Z",
          "shell.execute_reply": "2021-12-26T20:52:26.845885Z",
          "shell.execute_reply.started": "2021-12-26T17:21:39.125049Z"
        },
        "papermill": {
          "duration": 2.481206,
          "end_time": "2021-12-26T20:52:26.846053",
          "exception": false,
          "start_time": "2021-12-26T20:52:24.364847",
          "status": "completed"
        },
        "tags": [],
        "id": "ff0f0d61"
      },
      "outputs": [],
      "source": [
        "import matplotlib.pyplot as plt\n",
        "df.hist(bins=50, figsize=(20, 15))\n",
        "plt.show()"
      ]
    },
    {
      "cell_type": "code",
      "execution_count": null,
      "id": "66b2e898",
      "metadata": {
        "execution": {
          "iopub.execute_input": "2021-12-26T20:52:28.848386Z",
          "iopub.status.busy": "2021-12-26T20:52:28.847242Z",
          "iopub.status.idle": "2021-12-26T20:52:29.023161Z",
          "shell.execute_reply": "2021-12-26T20:52:29.022328Z",
          "shell.execute_reply.started": "2021-12-26T17:48:39.895157Z"
        },
        "papermill": {
          "duration": 1.080134,
          "end_time": "2021-12-26T20:52:29.023336",
          "exception": false,
          "start_time": "2021-12-26T20:52:27.943202",
          "status": "completed"
        },
        "tags": [],
        "id": "66b2e898"
      },
      "outputs": [],
      "source": [
        "df['RiskLevel'].value_counts()\n",
        "\n",
        "df['RiskLevel'].value_counts() * 100 / len(df)\n",
        "\n",
        "\n",
        "sns.countplot(x='RiskLevel', data=df, palette='viridis')"
      ]
    },
    {
      "cell_type": "code",
      "execution_count": null,
      "id": "9e68d5bd",
      "metadata": {
        "execution": {
          "iopub.execute_input": "2021-12-26T20:52:30.832754Z",
          "iopub.status.busy": "2021-12-26T20:52:30.831676Z",
          "iopub.status.idle": "2021-12-26T20:52:30.833809Z",
          "shell.execute_reply": "2021-12-26T20:52:30.834611Z",
          "shell.execute_reply.started": "2021-12-26T17:21:40.363014Z"
        },
        "papermill": {
          "duration": 0.902799,
          "end_time": "2021-12-26T20:52:30.835035",
          "exception": false,
          "start_time": "2021-12-26T20:52:29.932236",
          "status": "completed"
        },
        "tags": [],
        "id": "9e68d5bd"
      },
      "outputs": [],
      "source": [
        "X = df.drop('RiskLevel',axis=1)\n",
        "y = df['RiskLevel']"
      ]
    },
    {
      "cell_type": "code",
      "execution_count": null,
      "id": "9fbd116d",
      "metadata": {
        "execution": {
          "iopub.execute_input": "2021-12-26T20:52:32.660777Z",
          "iopub.status.busy": "2021-12-26T20:52:32.659839Z",
          "iopub.status.idle": "2021-12-26T20:52:32.673630Z",
          "shell.execute_reply": "2021-12-26T20:52:32.674100Z",
          "shell.execute_reply.started": "2021-12-26T17:21:40.371707Z"
        },
        "papermill": {
          "duration": 0.926341,
          "end_time": "2021-12-26T20:52:32.674265",
          "exception": false,
          "start_time": "2021-12-26T20:52:31.747924",
          "status": "completed"
        },
        "tags": [],
        "id": "9fbd116d"
      },
      "outputs": [],
      "source": [
        "X"
      ]
    },
    {
      "cell_type": "code",
      "execution_count": null,
      "id": "7021ea9d",
      "metadata": {
        "execution": {
          "iopub.execute_input": "2021-12-26T20:52:34.514883Z",
          "iopub.status.busy": "2021-12-26T20:52:34.513785Z",
          "iopub.status.idle": "2021-12-26T20:52:34.518448Z",
          "shell.execute_reply": "2021-12-26T20:52:34.519252Z",
          "shell.execute_reply.started": "2021-12-26T17:21:40.398069Z"
        },
        "papermill": {
          "duration": 0.914598,
          "end_time": "2021-12-26T20:52:34.519522",
          "exception": false,
          "start_time": "2021-12-26T20:52:33.604924",
          "status": "completed"
        },
        "tags": [],
        "id": "7021ea9d"
      },
      "outputs": [],
      "source": [
        "y"
      ]
    },
    {
      "cell_type": "code",
      "execution_count": null,
      "id": "1cbe40ab",
      "metadata": {
        "execution": {
          "iopub.execute_input": "2021-12-26T20:52:36.341931Z",
          "iopub.status.busy": "2021-12-26T20:52:36.341123Z",
          "iopub.status.idle": "2021-12-26T20:52:36.344202Z",
          "shell.execute_reply": "2021-12-26T20:52:36.344691Z",
          "shell.execute_reply.started": "2021-12-26T17:21:40.414453Z"
        },
        "papermill": {
          "duration": 0.919519,
          "end_time": "2021-12-26T20:52:36.344854",
          "exception": false,
          "start_time": "2021-12-26T20:52:35.425335",
          "status": "completed"
        },
        "tags": [],
        "id": "1cbe40ab"
      },
      "outputs": [],
      "source": [
        "#Splitting The Dataset\n",
        "\n",
        "X_train,X_test,y_train,y_test=train_test_split(X,y,test_size=0.3,\n",
        "                                               random_state=42)\n",
        "y_test"
      ]
    },
    {
      "cell_type": "code",
      "execution_count": null,
      "id": "e8097e63",
      "metadata": {
        "execution": {
          "iopub.execute_input": "2021-12-26T20:52:38.161554Z",
          "iopub.status.busy": "2021-12-26T20:52:38.160916Z",
          "iopub.status.idle": "2021-12-26T20:52:38.168488Z",
          "shell.execute_reply": "2021-12-26T20:52:38.169124Z",
          "shell.execute_reply.started": "2021-12-26T17:21:40.432819Z"
        },
        "papermill": {
          "duration": 0.922346,
          "end_time": "2021-12-26T20:52:38.169313",
          "exception": false,
          "start_time": "2021-12-26T20:52:37.246967",
          "status": "completed"
        },
        "tags": [],
        "id": "e8097e63"
      },
      "outputs": [],
      "source": [
        "print(f'Training Shape x:',X_train.shape)\n",
        "print(f'Testing Shape x:',X_test.shape)\n",
        "print('*****___________*****___________*****')\n",
        "print(f'Training Shape y:',X.shape)\n",
        "print(f'Testing Shape y:',y.shape)"
      ]
    },
    {
      "cell_type": "code",
      "execution_count": null,
      "id": "c3e7cb18",
      "metadata": {
        "execution": {
          "iopub.execute_input": "2021-12-26T20:52:39.992445Z",
          "iopub.status.busy": "2021-12-26T20:52:39.991512Z",
          "iopub.status.idle": "2021-12-26T20:52:40.000264Z",
          "shell.execute_reply": "2021-12-26T20:52:40.000806Z",
          "shell.execute_reply.started": "2021-12-26T17:21:40.445405Z"
        },
        "papermill": {
          "duration": 0.915114,
          "end_time": "2021-12-26T20:52:40.000995",
          "exception": false,
          "start_time": "2021-12-26T20:52:39.085881",
          "status": "completed"
        },
        "tags": [],
        "id": "c3e7cb18"
      },
      "outputs": [],
      "source": [
        "#StandardScaler\n",
        "\n",
        "ss = StandardScaler()\n",
        "\n",
        "X_train = ss.fit_transform(X_train)\n",
        "\n",
        "X_test= ss.transform(X_test)\n"
      ]
    },
    {
      "cell_type": "code",
      "execution_count": null,
      "id": "8c91e449",
      "metadata": {
        "execution": {
          "iopub.execute_input": "2021-12-26T20:52:41.818919Z",
          "iopub.status.busy": "2021-12-26T20:52:41.817966Z",
          "iopub.status.idle": "2021-12-26T20:52:41.841614Z",
          "shell.execute_reply": "2021-12-26T20:52:41.842069Z",
          "shell.execute_reply.started": "2021-12-26T17:21:40.465687Z"
        },
        "papermill": {
          "duration": 0.936673,
          "end_time": "2021-12-26T20:52:41.842254",
          "exception": false,
          "start_time": "2021-12-26T20:52:40.905581",
          "status": "completed"
        },
        "tags": [],
        "id": "8c91e449"
      },
      "outputs": [],
      "source": [
        "#Applying SVC (Support Vector Classification)\n",
        "from sklearn.svm import SVC\n",
        "\n",
        "#Create svm\n",
        "svm = SVC(kernel='rbf', random_state=0, gamma=.10, C=1.0)\n",
        "svm.fit(X_train, y_train)\n",
        "print(\"Train accuracy:\",svm.score(X_train,y_train))\n",
        "print(\"Test accuracy:\",svm.score(X_test,y_test))\n",
        "\n",
        "y_pred = svm.predict(X_test)\n",
        "print(y_pred)\n",
        "cm = confusion_matrix(y_test, y_pred)\n",
        "print(f'CM:',cm)\n",
        "print(f'Accuracy:',accuracy_score(y_test, y_pred)* 100 ,'%')\n",
        "print(classification_report(y_test, svm.predict(X_test)))"
      ]
    },
    {
      "cell_type": "code",
      "execution_count": null,
      "id": "a459a2a5",
      "metadata": {
        "execution": {
          "iopub.execute_input": "2021-12-26T20:52:43.659092Z",
          "iopub.status.busy": "2021-12-26T20:52:43.658453Z",
          "iopub.status.idle": "2021-12-26T20:52:44.417365Z",
          "shell.execute_reply": "2021-12-26T20:52:44.418038Z",
          "shell.execute_reply.started": "2021-12-26T17:21:40.501978Z"
        },
        "papermill": {
          "duration": 1.663652,
          "end_time": "2021-12-26T20:52:44.418434",
          "exception": false,
          "start_time": "2021-12-26T20:52:42.754782",
          "status": "completed"
        },
        "tags": [],
        "id": "a459a2a5"
      },
      "outputs": [],
      "source": [
        "#Applying XGBoost\n",
        "import xgboost as xgb\n",
        "\n",
        "#Create XGBClassifier\n",
        "xgb_clf = xgb.XGBClassifier()\n",
        "\n",
        "xgb_clf = xgb_clf.fit(X_train, y_train)\n",
        "\n",
        "print(\"Train accuracy:\",xgb_clf.score(X_train,y_train))\n",
        "print(\"Test accuracy:\",xgb_clf.score(X_test,y_test))\n",
        "\n",
        "y_pred = xgb_clf.predict(X_test)\n",
        "print(y_pred)\n",
        "cm = confusion_matrix(y_test, y_pred)\n",
        "print(f'CM:',cm)\n",
        "print(f'Accuracy:',accuracy_score(y_test, y_pred)* 100 ,'%')\n",
        "print(classification_report(y_test, xgb_clf.predict(X_test)))\n"
      ]
    },
    {
      "cell_type": "code",
      "execution_count": null,
      "id": "03a93109",
      "metadata": {
        "execution": {
          "iopub.execute_input": "2021-12-26T20:52:46.228373Z",
          "iopub.status.busy": "2021-12-26T20:52:46.227478Z",
          "iopub.status.idle": "2021-12-26T20:52:46.340109Z",
          "shell.execute_reply": "2021-12-26T20:52:46.339201Z",
          "shell.execute_reply.started": "2021-12-26T17:21:41.056715Z"
        },
        "papermill": {
          "duration": 1.019176,
          "end_time": "2021-12-26T20:52:46.340314",
          "exception": false,
          "start_time": "2021-12-26T20:52:45.321138",
          "status": "completed"
        },
        "tags": [],
        "id": "03a93109"
      },
      "outputs": [],
      "source": [
        "#Applying Decision Tree\n",
        "from sklearn import tree\n",
        "\n",
        "#Create tree object\n",
        "decision_tree = tree.DecisionTreeClassifier(criterion='gini')\n",
        "\n",
        "#Train DT based on scaled training set\n",
        "decision_tree.fit(X_train, y_train)\n",
        "\n",
        "print(\"Train accuracy:\",decision_tree.score(X_train,y_train))\n",
        "print(\"Test accuracy:\",decision_tree.score(X_test,y_test))\n",
        "\n",
        "y_pred = decision_tree.predict(X_test)\n",
        "print(y_pred)\n",
        "cm = confusion_matrix(y_test, y_pred)\n",
        "print(f'CM:',cm)\n",
        "print(f'Accuracy:',accuracy_score(y_test, y_pred)* 100 ,'%')\n",
        "print(classification_report(y_test, decision_tree.predict(X_test)))"
      ]
    },
    {
      "cell_type": "code",
      "execution_count": null,
      "id": "155573cf",
      "metadata": {
        "execution": {
          "iopub.execute_input": "2021-12-26T20:52:48.158352Z",
          "iopub.status.busy": "2021-12-26T20:52:48.157730Z",
          "iopub.status.idle": "2021-12-26T20:52:48.399413Z",
          "shell.execute_reply": "2021-12-26T20:52:48.399875Z",
          "shell.execute_reply.started": "2021-12-26T17:21:41.081037Z"
        },
        "papermill": {
          "duration": 1.151892,
          "end_time": "2021-12-26T20:52:48.400051",
          "exception": false,
          "start_time": "2021-12-26T20:52:47.248159",
          "status": "completed"
        },
        "tags": [],
        "id": "155573cf"
      },
      "outputs": [],
      "source": [
        "#Applying RandomForest\n",
        "from sklearn.ensemble import RandomForestClassifier\n",
        "\n",
        "#Create Random Forest object\n",
        "random_forest = RandomForestClassifier()\n",
        "\n",
        "#Train model\n",
        "random_forest.fit(X_train, y_train)\n",
        "\n",
        "print(\"Train accuracy:\",random_forest.score(X_train,y_train))\n",
        "print(\"Test accuracy:\",random_forest.score(X_test,y_test))\n",
        "\n",
        "y_pred = random_forest.predict(X_test)\n",
        "print(y_pred)\n",
        "cm = confusion_matrix(y_test, y_pred)\n",
        "print(f'CM:',cm)\n",
        "print(f'Accuracy:',accuracy_score(y_test, y_pred)* 100 ,'%')\n",
        "print(classification_report(y_test, random_forest.predict(X_test)))"
      ]
    },
    {
      "cell_type": "code",
      "execution_count": null,
      "id": "348aabed",
      "metadata": {
        "execution": {
          "iopub.execute_input": "2021-12-26T20:52:50.245760Z",
          "iopub.status.busy": "2021-12-26T20:52:50.245088Z",
          "iopub.status.idle": "2021-12-26T20:52:50.278847Z",
          "shell.execute_reply": "2021-12-26T20:52:50.278089Z",
          "shell.execute_reply.started": "2021-12-26T17:21:41.318041Z"
        },
        "papermill": {
          "duration": 0.965269,
          "end_time": "2021-12-26T20:52:50.279032",
          "exception": false,
          "start_time": "2021-12-26T20:52:49.313763",
          "status": "completed"
        },
        "tags": [],
        "id": "348aabed"
      },
      "outputs": [],
      "source": [
        "#Applying GaussianNB\n",
        "from sklearn.naive_bayes import GaussianNB\n",
        "nb = GaussianNB()\n",
        "nb.fit(X_train , y_train)\n",
        "\n",
        "print(\"Train accuracy:\",nb.score(X_train,y_train))\n",
        "print(\"Test accuracy:\",nb.score(X_test,y_test))\n",
        "\n",
        "y_pred = nb.predict(X_test)\n",
        "print(y_pred)\n",
        "cm = confusion_matrix(y_test, y_pred)\n",
        "print(f'CM:',cm)\n",
        "print(f'Accuracy:',accuracy_score(y_test, y_pred)* 100 ,'%')\n",
        "print(classification_report(y_test, nb.predict(X_test)))"
      ]
    }
  ],
  "metadata": {
    "kernelspec": {
      "display_name": "Python 3",
      "language": "python",
      "name": "python3"
    },
    "language_info": {
      "codemirror_mode": {
        "name": "ipython",
        "version": 3
      },
      "file_extension": ".py",
      "mimetype": "text/x-python",
      "name": "python",
      "nbconvert_exporter": "python",
      "pygments_lexer": "ipython3",
      "version": "3.7.12"
    },
    "papermill": {
      "default_parameters": {},
      "duration": 86.29484,
      "end_time": "2021-12-26T20:52:54.081936",
      "environment_variables": {},
      "exception": null,
      "input_path": "__notebook__.ipynb",
      "output_path": "__notebook__.ipynb",
      "parameters": {},
      "start_time": "2021-12-26T20:51:27.787096",
      "version": "2.3.3"
    },
    "colab": {
      "provenance": []
    }
  },
  "nbformat": 4,
  "nbformat_minor": 5
}